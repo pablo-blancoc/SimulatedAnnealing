{
 "cells": [
  {
   "cell_type": "markdown",
   "metadata": {},
   "source": [
    "# Implementación de *Simulated Annealing* para el problema del agente viajero"
   ]
  },
  {
   "cell_type": "markdown",
   "metadata": {},
   "source": [
    "**Importar las librerías necesarias para poder trabajar con los datos**"
   ]
  },
  {
   "cell_type": "code",
   "execution_count": 1,
   "metadata": {},
   "outputs": [],
   "source": [
    "import pandas as pd\n",
    "import numpy as np\n",
    "from numpyencoder import NumpyEncoder\n",
    "import matplotlib.pyplot as plt\n",
    "import os\n",
    "import json"
   ]
  },
  {
   "cell_type": "markdown",
   "metadata": {},
   "source": [
    "**Leer los datos (la matriz de distancias) y crear un DataFrame a partir de ellos**"
   ]
  },
  {
   "cell_type": "code",
   "execution_count": 2,
   "metadata": {},
   "outputs": [
    {
     "data": {
      "text/html": [
       "<div>\n",
       "<style scoped>\n",
       "    .dataframe tbody tr th:only-of-type {\n",
       "        vertical-align: middle;\n",
       "    }\n",
       "\n",
       "    .dataframe tbody tr th {\n",
       "        vertical-align: top;\n",
       "    }\n",
       "\n",
       "    .dataframe thead th {\n",
       "        text-align: right;\n",
       "    }\n",
       "</style>\n",
       "<table border=\"1\" class=\"dataframe\">\n",
       "  <thead>\n",
       "    <tr style=\"text-align: right;\">\n",
       "      <th></th>\n",
       "      <th>0</th>\n",
       "      <th>1</th>\n",
       "      <th>2</th>\n",
       "      <th>3</th>\n",
       "      <th>4</th>\n",
       "      <th>5</th>\n",
       "      <th>6</th>\n",
       "      <th>7</th>\n",
       "      <th>8</th>\n",
       "      <th>9</th>\n",
       "      <th>...</th>\n",
       "      <th>118</th>\n",
       "      <th>119</th>\n",
       "      <th>120</th>\n",
       "      <th>121</th>\n",
       "      <th>122</th>\n",
       "      <th>123</th>\n",
       "      <th>124</th>\n",
       "      <th>125</th>\n",
       "      <th>126</th>\n",
       "      <th>127</th>\n",
       "    </tr>\n",
       "  </thead>\n",
       "  <tbody>\n",
       "    <tr>\n",
       "      <th>0</th>\n",
       "      <td>0</td>\n",
       "      <td>966</td>\n",
       "      <td>1513</td>\n",
       "      <td>2964</td>\n",
       "      <td>1149</td>\n",
       "      <td>927</td>\n",
       "      <td>1611</td>\n",
       "      <td>1510</td>\n",
       "      <td>390</td>\n",
       "      <td>466</td>\n",
       "      <td>...</td>\n",
       "      <td>1018</td>\n",
       "      <td>168</td>\n",
       "      <td>565</td>\n",
       "      <td>1700</td>\n",
       "      <td>1636</td>\n",
       "      <td>2019</td>\n",
       "      <td>1458</td>\n",
       "      <td>1564</td>\n",
       "      <td>2871</td>\n",
       "      <td>348</td>\n",
       "    </tr>\n",
       "    <tr>\n",
       "      <th>1</th>\n",
       "      <td>966</td>\n",
       "      <td>0</td>\n",
       "      <td>2410</td>\n",
       "      <td>1520</td>\n",
       "      <td>1817</td>\n",
       "      <td>729</td>\n",
       "      <td>686</td>\n",
       "      <td>290</td>\n",
       "      <td>1823</td>\n",
       "      <td>168</td>\n",
       "      <td>...</td>\n",
       "      <td>548</td>\n",
       "      <td>1127</td>\n",
       "      <td>432</td>\n",
       "      <td>2265</td>\n",
       "      <td>558</td>\n",
       "      <td>571</td>\n",
       "      <td>943</td>\n",
       "      <td>198</td>\n",
       "      <td>1917</td>\n",
       "      <td>2541</td>\n",
       "    </tr>\n",
       "    <tr>\n",
       "      <th>2</th>\n",
       "      <td>1513</td>\n",
       "      <td>2410</td>\n",
       "      <td>0</td>\n",
       "      <td>604</td>\n",
       "      <td>481</td>\n",
       "      <td>2742</td>\n",
       "      <td>1833</td>\n",
       "      <td>826</td>\n",
       "      <td>214</td>\n",
       "      <td>1618</td>\n",
       "      <td>...</td>\n",
       "      <td>752</td>\n",
       "      <td>486</td>\n",
       "      <td>590</td>\n",
       "      <td>2132</td>\n",
       "      <td>1095</td>\n",
       "      <td>2154</td>\n",
       "      <td>1211</td>\n",
       "      <td>2217</td>\n",
       "      <td>2673</td>\n",
       "      <td>1570</td>\n",
       "    </tr>\n",
       "    <tr>\n",
       "      <th>3</th>\n",
       "      <td>2964</td>\n",
       "      <td>1520</td>\n",
       "      <td>604</td>\n",
       "      <td>0</td>\n",
       "      <td>595</td>\n",
       "      <td>1289</td>\n",
       "      <td>1446</td>\n",
       "      <td>466</td>\n",
       "      <td>1139</td>\n",
       "      <td>430</td>\n",
       "      <td>...</td>\n",
       "      <td>1861</td>\n",
       "      <td>861</td>\n",
       "      <td>499</td>\n",
       "      <td>1408</td>\n",
       "      <td>986</td>\n",
       "      <td>2719</td>\n",
       "      <td>1437</td>\n",
       "      <td>769</td>\n",
       "      <td>1038</td>\n",
       "      <td>2343</td>\n",
       "    </tr>\n",
       "    <tr>\n",
       "      <th>4</th>\n",
       "      <td>1149</td>\n",
       "      <td>1817</td>\n",
       "      <td>481</td>\n",
       "      <td>595</td>\n",
       "      <td>0</td>\n",
       "      <td>494</td>\n",
       "      <td>550</td>\n",
       "      <td>2641</td>\n",
       "      <td>765</td>\n",
       "      <td>934</td>\n",
       "      <td>...</td>\n",
       "      <td>216</td>\n",
       "      <td>1994</td>\n",
       "      <td>324</td>\n",
       "      <td>2187</td>\n",
       "      <td>260</td>\n",
       "      <td>2586</td>\n",
       "      <td>1974</td>\n",
       "      <td>2352</td>\n",
       "      <td>2243</td>\n",
       "      <td>691</td>\n",
       "    </tr>\n",
       "  </tbody>\n",
       "</table>\n",
       "<p>5 rows × 128 columns</p>\n",
       "</div>"
      ],
      "text/plain": [
       "    0     1     2     3     4     5     6     7     8     9    ...   118  \\\n",
       "0     0   966  1513  2964  1149   927  1611  1510   390   466  ...  1018   \n",
       "1   966     0  2410  1520  1817   729   686   290  1823   168  ...   548   \n",
       "2  1513  2410     0   604   481  2742  1833   826   214  1618  ...   752   \n",
       "3  2964  1520   604     0   595  1289  1446   466  1139   430  ...  1861   \n",
       "4  1149  1817   481   595     0   494   550  2641   765   934  ...   216   \n",
       "\n",
       "    119  120   121   122   123   124   125   126   127  \n",
       "0   168  565  1700  1636  2019  1458  1564  2871   348  \n",
       "1  1127  432  2265   558   571   943   198  1917  2541  \n",
       "2   486  590  2132  1095  2154  1211  2217  2673  1570  \n",
       "3   861  499  1408   986  2719  1437   769  1038  2343  \n",
       "4  1994  324  2187   260  2586  1974  2352  2243   691  \n",
       "\n",
       "[5 rows x 128 columns]"
      ]
     },
     "execution_count": 2,
     "metadata": {},
     "output_type": "execute_result"
    }
   ],
   "source": [
    "CITIES = np.empty((128, 3))\n",
    "\n",
    "with open('coordinates.txt', 'r') as f:\n",
    "    for index, line in enumerate(f.readlines()):\n",
    "        line = line.strip().split()\n",
    "        CITIES[index] = [index, float(line[0]), float(line[1])]\n",
    "\n",
    "DATA = pd.read_csv('cities.csv', header=None)\n",
    "\n",
    "# Vamos a imprimir los primeros 5 para asegurarnos de que todo está bien\n",
    "DATA.head(5)"
   ]
  },
  {
   "cell_type": "markdown",
   "metadata": {},
   "source": [
    "**Hacer un primer camino aleatorio**"
   ]
  },
  {
   "cell_type": "code",
   "execution_count": 3,
   "metadata": {},
   "outputs": [],
   "source": [
    "PATH = np.random.permutation(CITIES)"
   ]
  },
  {
   "cell_type": "markdown",
   "metadata": {},
   "source": [
    "**Definir la función del costo del camino actual**"
   ]
  },
  {
   "cell_type": "code",
   "execution_count": 4,
   "metadata": {},
   "outputs": [],
   "source": [
    "def cost(path: np.array) -> float:\n",
    "    \"\"\"Calcula el costo de la ruta elegida al momento\n",
    "\n",
    "    Args:\n",
    "        path (np.array): Array que contiene la ruta que se debe de seguir al momento\n",
    "\n",
    "    Returns:\n",
    "        float: El costo de la ruta\n",
    "    \"\"\"\n",
    "    global DATA\n",
    "    \n",
    "    cost = 0\n",
    "    \n",
    "    # Calcular el costo del camino\n",
    "    for i in range(len(path) - 1):\n",
    "        cost += DATA.iloc[int(path[i, 0]), int(path[i + 1, 0])]\n",
    "        \n",
    "    # Sumar el costo de volver al principio\n",
    "    cost += DATA.iloc[int(path[-1, 0]), int(path[0, 0])]\n",
    "    return cost"
   ]
  },
  {
   "cell_type": "markdown",
   "metadata": {},
   "source": [
    "**Definir la función de obtener un nuevo camino 'vecino' del actual**"
   ]
  },
  {
   "cell_type": "code",
   "execution_count": 5,
   "metadata": {},
   "outputs": [],
   "source": [
    "def generate_path(path: np.array) -> np.array:\n",
    "    \"\"\"Genera una ruta tomando dos elementos aleatorios de la ruta, y haciendo un 'reverse' de todos los elementos \n",
    "        dentro del array formado por estas dos ciudades como extremos\n",
    "\n",
    "    Args:\n",
    "        path (np.array): La ruta actual\n",
    "\n",
    "    Returns:\n",
    "        np.array: La nueva ruta\n",
    "    \"\"\"\n",
    "    # Tomar dos elementos aleatorios\n",
    "    i, j = np.random.choice([i for i in range(0, 128)], size=2, replace=False)\n",
    "    \n",
    "    # Hacer el swap\n",
    "    new_path = np.copy(path)\n",
    "    new_path[i : j] = path[i : j][::-1]\n",
    "    \n",
    "    return new_path"
   ]
  },
  {
   "cell_type": "markdown",
   "metadata": {},
   "source": [
    "## Función que usa todas las funciones anteriores para generar la mejor ruta"
   ]
  },
  {
   "cell_type": "code",
   "execution_count": 6,
   "metadata": {},
   "outputs": [],
   "source": [
    "\n",
    "def simulated_annealing(path: np.array, t: float, l: int, max_loops: int = 2000000, t_update: float = 0.999, save_graph_values: bool = True) -> list:\n",
    "    \"\"\"Función que implementa el algoritmo de Simulated Annealing\n",
    "\n",
    "    Args:\n",
    "        path (np.array): La ruta actual\n",
    "        t (float): Temperatura\n",
    "        l (int): Cada cuantas iteraciones se debe de actualizar la temperatura\n",
    "        max_loops (int, optional): Cantidad máxima de iteraciones. Defaults to 1000000.\n",
    "        t_update (float, optional): Factor de actualización de la temperatura. Defaults to 0.99.\n",
    "\n",
    "    Returns:\n",
    "        np.array: La nueva ruta\n",
    "    \"\"\"\n",
    "    diff = 0\n",
    "    k = 0\n",
    "    cost_path = cost(path)\n",
    "    super_min_cost = cost_path\n",
    "    results = []\n",
    "    t_values = []\n",
    "    information = {\n",
    "        'T': t,\n",
    "        'L': l,\n",
    "        't_update': t_update,\n",
    "        'max_loops': max_loops,\n",
    "        'paths': [\n",
    "            path\n",
    "        ]\n",
    "    }\n",
    "\n",
    "    while k < max_loops:\n",
    "        # Generar una nueva ruta\n",
    "        new_path = generate_path(path)\n",
    "\n",
    "        # Calcular la diferencia de costos\n",
    "        cost_new_path = cost(new_path)\n",
    "        diff = cost_new_path - cost_path\n",
    "        \n",
    "        # Calcular el minimo costo que se ha tenido en todas las corridas y si es menor que el actual actualizar la información\n",
    "        if cost_new_path < super_min_cost:\n",
    "            super_min_cost = cost_new_path\n",
    "            information['paths'].append(new_path)\n",
    "\n",
    "        # Si la diferencia es menor que 0, entonces la nueva ruta es mejor, por lo que la actual se debe de actualizar\n",
    "        if diff < 0:\n",
    "            path = new_path\n",
    "            cost_path = cost_new_path\n",
    "\n",
    "        # Si la diferencia es mayor que 0, entonces la nueva ruta es peor, por lo que se debe de probar si debe de ser aceptada\n",
    "        elif np.random.rand() < np.exp(-diff / t):\n",
    "            path = new_path\n",
    "            cost_path = cost_new_path\n",
    "\n",
    "        # Escribir el costo dentro del array de resultados y T para graficar\n",
    "        results.append(cost_path)\n",
    "        t_values.append(t)\n",
    "\n",
    "        # Aumentar K y cada L pasos disminuir T\n",
    "        k += 1\n",
    "        if k % l == 0:\n",
    "            t *= t_update\n",
    "            \n",
    "            \n",
    "    # Guardar la información dentro de un archivo\n",
    "    if save_graph_values:\n",
    "        with open(f'files/SA_t={t}_l={l}_tupdate={t_update}_d={results[-1]}_02.json', 'w') as file:\n",
    "            json.dump(information, file, indent=0, sort_keys=True,separators=(',', ':'), ensure_ascii=False, cls=NumpyEncoder)\n",
    "    \n",
    "    return results, t_values, super_min_cost\n",
    "    \n",
    "    "
   ]
  },
  {
   "cell_type": "markdown",
   "metadata": {},
   "source": [
    "**Ejecutar el programa**\n",
    "\n",
    "Después de jugar varias veces con las variables, se encontró que con las siguientes era de las mejores soluciones que daba el programa"
   ]
  },
  {
   "cell_type": "code",
   "execution_count": 7,
   "metadata": {},
   "outputs": [
    {
     "name": "stdout",
     "output_type": "stream",
     "text": [
      "Finished with min_cost: 38328\n"
     ]
    }
   ],
   "source": [
    "execute = True\n",
    "save_graph = False\n",
    "\n",
    "# seed = np.random.randint(0, 1000000000)\n",
    "# print(f\"seed: {seed}\")\n",
    "seed = 698133137\n",
    "np.random.seed(seed)\n",
    "\n",
    "if execute:\n",
    "    T = 3000\n",
    "    l = 100\n",
    "    t_update = 0.997\n",
    "    max_loops = 100000\n",
    "\n",
    "    # run algorithm\n",
    "    results, t_values, min_cost = simulated_annealing(path=PATH, t=T, l=l, max_loops=max_loops, t_update=t_update, save_graph_values=True)\n",
    "\n",
    "    # graph results\n",
    "    if save_graph:\n",
    "        plt.figure(figsize=(8,6), facecolor='w')\n",
    "        plt.plot(range(len(results)), results)\n",
    "        plt.title(f'Cost of Simulated Annealing with T={T}. min={min_cost}')\n",
    "        plt.xlabel('k iterations')\n",
    "        plt.ylabel('Cost')\n",
    "\n",
    "        # save plot on disk\n",
    "        plt.savefig(f'./plots/SA_t={T}_l={l}_tupdate={t_update}_s={seed}_d={results[-1]}_min={min_cost}.png')\n",
    "        plt.clf()\n",
    "\n",
    "        ########################\n",
    "        # graph results\n",
    "        plt.plot(range(len(t_values)), t_values)\n",
    "        plt.title(f'Value of T')\n",
    "        plt.xlabel('k iterations')\n",
    "        plt.ylabel('T')\n",
    "\n",
    "        # save plot on disk\n",
    "        plt.savefig(f'./plots/T_t={T}_l={l}_tupdate={t_update}_s={seed}_d={results[-1]}_min={min_cost}.png')\n",
    "        plt.clf()\n",
    "    \n",
    "    print(f\"Finished with min_cost: {min_cost}\")"
   ]
  },
  {
   "cell_type": "markdown",
   "metadata": {},
   "source": [
    "Después de varias corridas, nos damos cuenta de que el mejor resultado es el siguiente: ```135,434``` km.\n",
    "\n",
    "Sin embargo, se logró cuando todavía no guardaba ni el *seed* ni la información de las corridas para poder efectuar la animación, es por eso que la animación se hará con otra corrida. Sin embargo, las variables fueron las siguientes en la mejor corrida: ```(T=3000, L=100, t_update=0.997)```, y en esa corrida si se guardó la gráfica que es la siguiente:\n",
    "\n",
    "<img src=\"plots/SA_t=3000_l=100_tupdate=0.997_d=135434.png\"/>\n",
    "\n",
    "La animación de la corrida se hará con los datos de una corrida con los mismos valores ```(T=3000, L=100, t_update=0.997, seed=698133137)``` pero que tuvo un costo de ```136,570``` km, solo ```1,136``` km más que la mejor (un incremento del 0.8% que puede despreciarse). La gráfica del costo de dicha corrida es la siguiente:\n",
    "\n",
    "<img src=\"plots/SA_t=3000_l=100_tupdate=0.997_s=698133137_d=136570_min=136570.png\"/>\n",
    "\n",
    "Además, podemos graficar cuál es el decremento de T conforme avanza el tiempo (conforme k va creciento). Lo podemos ver en la siguiente gráfica (valores ```T=2000, L=100, t_update=0.998, max_loops=100000```):\n",
    "\n",
    "<img src=\"plots/T_t=2000_l=100_tupdate=0.998_maxloops=100000.png\"/>\n",
    "\n",
    "\n"
   ]
  },
  {
   "cell_type": "markdown",
   "metadata": {},
   "source": [
    "## Animación"
   ]
  },
  {
   "cell_type": "markdown",
   "metadata": {},
   "source": [
    "**Primero vamos a graficar todas las coordenadas**"
   ]
  },
  {
   "cell_type": "code",
   "execution_count": 8,
   "metadata": {},
   "outputs": [],
   "source": [
    "COORDS = np.empty((128, 2))\n",
    "\n",
    "with open('coordinates.txt', 'r') as f:\n",
    "    for index, line in enumerate(f.readlines()):\n",
    "        line = line.strip().split()\n",
    "        COORDS[index] = [float(line[0]), float(line[1])]"
   ]
  },
  {
   "cell_type": "code",
   "execution_count": 9,
   "metadata": {},
   "outputs": [
    {
     "data": {
      "image/png": "[encoded data removed]",
      "text/plain": [
       "<Figure size 576x432 with 1 Axes>"
      ]
     },
     "metadata": {},
     "output_type": "display_data"
    }
   ],
   "source": [
    "plt.figure(figsize=(8,6), facecolor='w')\n",
    "\n",
    "plt.plot(COORDS.T[0], COORDS.T[1], 'o', c='black')\n",
    "plt.xlabel(\"X\")\n",
    "plt.ylabel(\"Y\")\n",
    "plt.title(\"Cities\")\n",
    "\n",
    "plt.savefig(f'./map.png')\n",
    "plt.show()"
   ]
  },
  {
   "cell_type": "markdown",
   "metadata": {},
   "source": [
    "**Ahora vamos a crear todos los plots y guardarlos como imagenes para poderlas juntar después como una visualización de animación**"
   ]
  },
  {
   "cell_type": "code",
   "execution_count": 12,
   "metadata": {},
   "outputs": [
    {
     "name": "stderr",
     "output_type": "stream",
     "text": [
      "/var/folders/vq/wth7jk_x3mq0j1hftwhfgmm00000gp/T/ipykernel_72924/142862502.py:10: RuntimeWarning: More than 20 figures have been opened. Figures created through the pyplot interface (`matplotlib.pyplot.figure`) are retained until explicitly closed and may consume too much memory. (To control this warning, see the rcParam `figure.max_open_warning`).\n",
      "  plt.figure(figsize=(8,6), facecolor='w')\n"
     ]
    }
   ],
   "source": [
    "# Declarar la variable que va a guardar toda la información\n",
    "information = {}\n",
    "\n",
    "# Leer el archivo que resultó con toda la información de la corrida\n",
    "with open('./files/SA_t=3000_l=100_tupdate=0.997_d=39839_02.json', 'r') as file:\n",
    "    information = json.load(file)\n",
    "    \n",
    "paths = np.array(information['paths'])\n",
    "for i in range(len(paths)):\n",
    "    plt.figure(figsize=(8,6), facecolor='w')\n",
    "    plt.plot(paths[i, :, 1], paths[i, :, 2], '-o')\n",
    "    plt.title(f'step: {i}.  Cost: {cost(paths[i, :, :])}')\n",
    "    plt.xlabel('X')\n",
    "    plt.ylabel('Y')\n",
    "\n",
    "    # save plot on disk\n",
    "    # plt.savefig(f'./plots/animation/{i}.png')\n",
    "    # plt.show()\n",
    "    # plt.clf()"
   ]
  },
  {
   "cell_type": "code",
   "execution_count": null,
   "metadata": {},
   "outputs": [],
   "source": []
  },
  {
   "cell_type": "code",
   "execution_count": null,
   "metadata": {},
   "outputs": [],
   "source": []
  },
  {
   "cell_type": "code",
   "execution_count": null,
   "metadata": {},
   "outputs": [],
   "source": []
  }
 ],
 "metadata": {
  "interpreter": {
   "hash": "ff25bec44a39c7c25af9671c9881b29d4edb3c31c350ea6b1c47a73172de5bbc"
  },
  "kernelspec": {
   "display_name": "Python 3.8.5 64-bit ('venv': venv)",
   "language": "python",
   "name": "python3"
  },
  "language_info": {
   "codemirror_mode": {
    "name": "ipython",
    "version": 3
   },
   "file_extension": ".py",
   "mimetype": "text/x-python",
   "name": "python",
   "nbconvert_exporter": "python",
   "pygments_lexer": "ipython3",
   "version": "3.8.5"
  },
  "orig_nbformat": 4
 },
 "nbformat": 4,
 "nbformat_minor": 2
}
