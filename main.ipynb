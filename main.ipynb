{
 "cells": [
  {
   "cell_type": "markdown",
   "metadata": {},
   "source": [
    "# Implementación de *Simulated Annealing* para el problema del agente viajero"
   ]
  },
  {
   "cell_type": "markdown",
   "metadata": {},
   "source": [
    "**Importar las librerías necesarias para poder trabajar con los datos y poner un 'seed'**"
   ]
  },
  {
   "cell_type": "code",
   "execution_count": null,
   "metadata": {},
   "outputs": [],
   "source": [
    "import pandas as pd\n",
    "import numpy as np\n",
    "from numpyencoder import NumpyEncoder\n",
    "import matplotlib.pyplot as plt\n",
    "import os\n",
    "import json\n",
    "\n",
    "np.random.seed(626)"
   ]
  },
  {
   "cell_type": "markdown",
   "metadata": {},
   "source": [
    "**Leer los datos (la matriz de distancias) y crear un DataFrame a partir de ellos**"
   ]
  },
  {
   "cell_type": "code",
   "execution_count": null,
   "metadata": {},
   "outputs": [],
   "source": [
    "CITIES = np.empty((128, 3))\n",
    "\n",
    "with open('coordinates.txt', 'r') as f:\n",
    "    for index, line in enumerate(f.readlines()):\n",
    "        line = line.strip().split()\n",
    "        CITIES[index] = [index, float(line[0]), float(line[1])]\n",
    "\n",
    "DATA = pd.read_csv('cities.csv', header=None)\n",
    "\n",
    "# Vamos a imprimir los primeros 5 para asegurarnos de que todo está bien\n",
    "DATA.head(5)"
   ]
  },
  {
   "cell_type": "markdown",
   "metadata": {},
   "source": [
    "**Hacer un primer camino aleatorio**"
   ]
  },
  {
   "cell_type": "code",
   "execution_count": null,
   "metadata": {},
   "outputs": [],
   "source": [
    "PATH = np.random.permutation(CITIES)"
   ]
  },
  {
   "cell_type": "markdown",
   "metadata": {},
   "source": [
    "**Definir la función del costo del camino actual**"
   ]
  },
  {
   "cell_type": "code",
   "execution_count": null,
   "metadata": {},
   "outputs": [],
   "source": [
    "def cost(path: np.array) -> float:\n",
    "    \"\"\"Calcula el costo de la ruta elegida al momento\n",
    "\n",
    "    Args:\n",
    "        path (np.array): Array que contiene la ruta que se debe de seguir al momento\n",
    "\n",
    "    Returns:\n",
    "        float: El costo de la ruta\n",
    "    \"\"\"\n",
    "    global DATA\n",
    "    \n",
    "    cost = 0\n",
    "    \n",
    "    # Calcular el costo del camino\n",
    "    for i in range(len(path) - 1):\n",
    "        cost += DATA.iloc[int(path[i, 0]), int(path[i + 1, 0])]\n",
    "        \n",
    "    # Sumar el costo de volver al principio\n",
    "    cost += DATA.iloc[int(path[-1, 0]), int(path[0, 0])]\n",
    "    return cost"
   ]
  },
  {
   "cell_type": "markdown",
   "metadata": {},
   "source": [
    "**Definir la función de obtener un nuevo camino 'vecino' del actual**"
   ]
  },
  {
   "cell_type": "code",
   "execution_count": null,
   "metadata": {},
   "outputs": [],
   "source": [
    "def generate_path(path: np.array) -> np.array:\n",
    "    \"\"\"Genera una ruta tomando dos elementos aleatorios de la ruta, y haciendo un 'reverse' de todos los elementos \n",
    "        dentro del array formado por estas dos ciudades como extremos\n",
    "\n",
    "    Args:\n",
    "        path (np.array): La ruta actual\n",
    "\n",
    "    Returns:\n",
    "        np.array: La nueva ruta\n",
    "    \"\"\"\n",
    "    # Tomar dos elementos aleatorios\n",
    "    i, j = np.random.choice([i for i in range(0, 128)], size=2, replace=False)\n",
    "    \n",
    "    # Hacer el swap\n",
    "    path[i : j] = path[i : j][::-1]\n",
    "    \n",
    "    return path"
   ]
  },
  {
   "cell_type": "markdown",
   "metadata": {},
   "source": [
    "## Función que usa todas las funciones anteriores para generar la mejor ruta"
   ]
  },
  {
   "cell_type": "code",
   "execution_count": null,
   "metadata": {},
   "outputs": [],
   "source": [
    "def simulated_annealing(path: np.array, t: float, l: int, max_loops: int = 2000000, t_update: float = 0.999) -> list:\n",
    "    \"\"\"Función que implementa el algoritmo de Simulated Annealing\n",
    "\n",
    "    Args:\n",
    "        path (np.array): La ruta actual\n",
    "        t (float): Temperatura\n",
    "        l (int): Cada cuantas iteraciones se debe de actualizar la temperatura\n",
    "        max_loops (int, optional): Cantidad máxima de iteraciones. Defaults to 1000000.\n",
    "        t_update (float, optional): Factor de actualización de la temperatura. Defaults to 0.99.\n",
    "\n",
    "    Returns:\n",
    "        np.array: La nueva ruta\n",
    "    \"\"\"\n",
    "    diff = 0\n",
    "    k = 0\n",
    "    cost_path = cost(path)\n",
    "    results = []\n",
    "    t_values = []\n",
    "    information = {\n",
    "        'T': t,\n",
    "        'L': l,\n",
    "        't_update': t_update,\n",
    "        'max_loops': max_loops,\n",
    "        'paths': [\n",
    "            path\n",
    "        ]\n",
    "    }\n",
    "\n",
    "    while k < max_loops:\n",
    "        # Generar una nueva ruta\n",
    "        new_path = generate_path(path)\n",
    "\n",
    "        # Calcular la diferencia de costos\n",
    "        cost_new_path = cost(new_path)\n",
    "        diff = cost_new_path - cost_path\n",
    "\n",
    "        # Si la diferencia es menor que 0, entonces la nueva ruta es mejor, por lo que la actual se debe de actualizar\n",
    "        if diff < 0:\n",
    "            path = new_path\n",
    "            cost_path = cost_new_path\n",
    "\n",
    "        # Si la diferencia es mayor que 0, entonces la nueva ruta es peor, por lo que se debe de probar si debe de ser aceptada\n",
    "        elif np.random.rand() < np.exp(-diff / t):\n",
    "            path = new_path\n",
    "            cost_path = cost_new_path\n",
    "\n",
    "        # Escribir el costo dentro del array de resultados y T para graficar\n",
    "        results.append(cost_path)\n",
    "        t_values.append(t)\n",
    "\n",
    "        # Aumentar K y cada L pasos disminuir T\n",
    "        k += 1\n",
    "        if k % l == 0:\n",
    "            t *= t_update\n",
    "            \n",
    "        # Agregar la nueva ruta a la información\n",
    "        information['paths'].append(path)\n",
    "            \n",
    "    # Guardar la información dentro de un archivo\n",
    "    with open(f'files/SA_t={t}_l={l}_tupdate={t_update}_d={results[-1]}.json', 'w') as file:\n",
    "        json.dump(information, file, indent=4, sort_keys=True,separators=(', ', ': '), ensure_ascii=False, cls=NumpyEncoder)\n",
    "    \n",
    "    return results, t_values\n",
    "    \n",
    "    "
   ]
  },
  {
   "cell_type": "markdown",
   "metadata": {},
   "source": [
    "**Ejecutar el programa y graficar el costo para T desde 1000 hasta 9000 (brincando 1000)**"
   ]
  },
  {
   "cell_type": "code",
   "execution_count": null,
   "metadata": {},
   "outputs": [],
   "source": [
    "execute = True\n",
    "\n",
    "if execute:\n",
    "    for T in np.arange(1000, 10000, 1000):\n",
    "        l = 100\n",
    "        t_update = 0.999\n",
    "        max_loops = 200000\n",
    "        \n",
    "        # run algorithm\n",
    "        results, t_values = simulated_annealing(path=PATH, t=T, l=l, max_loops=max_loops, t_update=t_update)\n",
    "    \n",
    "        # graph results\n",
    "        plt.figure(figsize=(6,4), facecolor='w')\n",
    "        plt.plot(range(len(results)), results)\n",
    "        plt.title(f'Cost of Simulated Annealing with T={T}')\n",
    "        plt.xlabel('k iterations')\n",
    "        plt.ylabel('Cost')\n",
    "        \n",
    "        # save plot on disk\n",
    "        plt.savefig(f'./plots/SA_t={T}_l={l}_tupdate={t_update}_d={results[-1]}.png')\n",
    "        print(f\"saved ./plots/SA_t={T}_l={l}_tupdate={t_update}_d={results[-1]}.png\")\n",
    "        plt.clf()\n",
    "        \n",
    "        ########################\n",
    "        # graph results\n",
    "        plt.plot(range(len(t_values)), t_values)\n",
    "        plt.title(f'Value of T')\n",
    "        plt.xlabel('k iterations')\n",
    "        plt.ylabel('T')\n",
    "        \n",
    "        # save plot on disk\n",
    "        plt.savefig(f'./plots/T_t={T}_l={l}_tupdate={t_update}_maxloops={max_loops}.png')\n",
    "        plt.clf()"
   ]
  },
  {
   "cell_type": "markdown",
   "metadata": {},
   "source": [
    "Nos damos cuenta después de todas las corridas que con T=3000 es el mejor resultado: ```135,434``` km.\n",
    "\n",
    "Es por eso que vamos a usar esos datos ```(T=3000, L=100, t_update=0.997)``` para generar nuestra animación del agente viajero\n",
    "\n",
    "<img src=\"plots/SA_t=3000_l=100_tupdate=0.997_d=135434.png\"/>\n",
    "\n",
    "A continuación podemos ver la gráfica de como va disminuyendo T a través del tiempo\n",
    "\n",
    "<img src=\"plots/T_t=3000_l=100_tupdate=0.997_maxloops=100000.png\"/>\n"
   ]
  },
  {
   "cell_type": "markdown",
   "metadata": {},
   "source": [
    "**Primero vamos a graficar todas las coordenadas**"
   ]
  },
  {
   "cell_type": "code",
   "execution_count": null,
   "metadata": {},
   "outputs": [],
   "source": [
    "COORDS = np.empty((128, 2))\n",
    "\n",
    "with open('coordinates.txt', 'r') as f:\n",
    "    for index, line in enumerate(f.readlines()):\n",
    "        line = line.strip().split()\n",
    "        COORDS[index] = [float(line[0]), float(line[1])]"
   ]
  },
  {
   "cell_type": "code",
   "execution_count": null,
   "metadata": {},
   "outputs": [],
   "source": [
    "plt.figure(figsize=(8,6), facecolor='w')\n",
    "\n",
    "plt.plot(COORDS.T[0], COORDS.T[1], 'o', c='black')\n",
    "plt.xlabel(\"X\")\n",
    "plt.ylabel(\"Y\")\n",
    "plt.title(\"Cities\")\n",
    "\n",
    "plt.savefig(f'./map.png')\n",
    "plt.show()"
   ]
  },
  {
   "cell_type": "code",
   "execution_count": null,
   "metadata": {},
   "outputs": [],
   "source": []
  }
 ],
 "metadata": {
  "interpreter": {
   "hash": "ff25bec44a39c7c25af9671c9881b29d4edb3c31c350ea6b1c47a73172de5bbc"
  },
  "kernelspec": {
   "display_name": "Python 3.8.5 64-bit ('venv': venv)",
   "language": "python",
   "name": "python3"
  },
  "language_info": {
   "codemirror_mode": {
    "name": "ipython",
    "version": 3
   },
   "file_extension": ".py",
   "mimetype": "text/x-python",
   "name": "python",
   "nbconvert_exporter": "python",
   "pygments_lexer": "ipython3",
   "version": "3.8.5"
  },
  "orig_nbformat": 4
 },
 "nbformat": 4,
 "nbformat_minor": 2
}
