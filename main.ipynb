{
 "cells": [
  {
   "cell_type": "markdown",
   "metadata": {},
   "source": [
    "# Implementación de *Simulated Annealing* para el problema del agente viajero"
   ]
  },
  {
   "cell_type": "markdown",
   "metadata": {},
   "source": [
    "**Importar las librerías necesarias para poder trabajar con los datos**"
   ]
  },
  {
   "cell_type": "code",
   "execution_count": null,
   "metadata": {},
   "outputs": [],
   "source": [
    "import pandas as pd\n",
    "import numpy as np\n",
    "from numpyencoder import NumpyEncoder\n",
    "import matplotlib.pyplot as plt\n",
    "import json"
   ]
  },
  {
   "cell_type": "markdown",
   "metadata": {},
   "source": [
    "**Leer los datos (la matriz de distancias) y crear un DataFrame a partir de ellos**"
   ]
  },
  {
   "cell_type": "code",
   "execution_count": null,
   "metadata": {},
   "outputs": [],
   "source": [
    "CITIES = np.empty((128, 3))\n",
    "\n",
    "with open('coordinates.txt', 'r') as f:\n",
    "    for index, line in enumerate(f.readlines()):\n",
    "        line = line.strip().split()\n",
    "        CITIES[index] = [index, float(line[0]), float(line[1])]\n",
    "\n",
    "DATA = pd.read_csv('cities.csv', header=None)\n",
    "\n",
    "# Vamos a imprimir los primeros 5 para asegurarnos de que todo está bien\n",
    "DATA.head(5)"
   ]
  },
  {
   "cell_type": "markdown",
   "metadata": {},
   "source": [
    "**Hacer un primer camino aleatorio**"
   ]
  },
  {
   "cell_type": "code",
   "execution_count": null,
   "metadata": {},
   "outputs": [],
   "source": [
    "PATH = np.random.permutation(CITIES)"
   ]
  },
  {
   "cell_type": "markdown",
   "metadata": {},
   "source": [
    "**Definir la función del costo del camino actual**"
   ]
  },
  {
   "cell_type": "code",
   "execution_count": null,
   "metadata": {},
   "outputs": [],
   "source": [
    "def cost(path: np.array) -> float:\n",
    "    \"\"\"Calcula el costo de la ruta elegida al momento\n",
    "\n",
    "    Args:\n",
    "        path (np.array): Array que contiene la ruta que se debe de seguir al momento\n",
    "\n",
    "    Returns:\n",
    "        float: El costo de la ruta\n",
    "    \"\"\"\n",
    "    global DATA\n",
    "    \n",
    "    cost = 0\n",
    "    \n",
    "    # Calcular el costo del camino\n",
    "    for i in range(len(path) - 1):\n",
    "        cost += DATA.iloc[int(path[i, 0]), int(path[i + 1, 0])]\n",
    "        \n",
    "    # Sumar el costo de volver al principio\n",
    "    cost += DATA.iloc[int(path[-1, 0]), int(path[0, 0])]\n",
    "    return cost"
   ]
  },
  {
   "cell_type": "markdown",
   "metadata": {},
   "source": [
    "**Definir la función de obtener un nuevo camino 'vecino' del actual**"
   ]
  },
  {
   "cell_type": "code",
   "execution_count": null,
   "metadata": {},
   "outputs": [],
   "source": [
    "def generate_path(path: np.array) -> np.array:\n",
    "    \"\"\"Genera una ruta tomando dos elementos aleatorios de la ruta, y haciendo un 'reverse' de todos los elementos \n",
    "        dentro del array formado por estas dos ciudades como extremos\n",
    "\n",
    "    Args:\n",
    "        path (np.array): La ruta actual\n",
    "\n",
    "    Returns:\n",
    "        np.array: La nueva ruta\n",
    "    \"\"\"\n",
    "    # Tomar dos elementos aleatorios\n",
    "    i, j = np.random.choice([i for i in range(0, 128)], size=2, replace=False)\n",
    "    \n",
    "    # Hacer el swap\n",
    "    new_path = np.copy(path)\n",
    "    new_path[i : j] = path[i : j][::-1]\n",
    "    \n",
    "    return new_path"
   ]
  },
  {
   "cell_type": "markdown",
   "metadata": {},
   "source": [
    "## Función que usa todas las funciones anteriores para generar la mejor ruta"
   ]
  },
  {
   "cell_type": "code",
   "execution_count": null,
   "metadata": {},
   "outputs": [],
   "source": [
    "\n",
    "def simulated_annealing(path: np.array, t: float, l: int, max_loops: int = 2000000, t_update: float = 0.999, save_graph_values: bool = True, global_min: float = None, seed: int = 0) -> list:\n",
    "    \"\"\"Función que implementa el algoritmo de Simulated Annealing\n",
    "\n",
    "    Args:\n",
    "        path (np.array): La ruta actual\n",
    "        t (float): Temperatura\n",
    "        l (int): Cada cuantas iteraciones se debe de actualizar la temperatura\n",
    "        max_loops (int, optional): Cantidad máxima de iteraciones. Defaults to 1000000.\n",
    "        t_update (float, optional): Factor de actualización de la temperatura. Defaults to 0.99.\n",
    "        save_graph_values (bool, optional): Si se debe de guardar los valores de la función de costo para graficar. Defaults to True.\n",
    "        global_min (float, optional): Valor mínimo global. Defaults to None.\n",
    "        seed (int, optional): Semilla para el random. Defaults to 0.\n",
    "\n",
    "    Returns:\n",
    "        np.array: La nueva ruta\n",
    "    \"\"\"\n",
    "    np.random.seed(seed)\n",
    "    \n",
    "    print(l)\n",
    "    \n",
    "    first_t = t\n",
    "    diff = 0\n",
    "    k = 0\n",
    "    cost_path = cost(path)\n",
    "    super_min_cost = cost_path\n",
    "    results = []\n",
    "    t_values = []\n",
    "    information = {\n",
    "        'T': t,\n",
    "        'L': l,\n",
    "        't_update': t_update,\n",
    "        'max_loops': max_loops,\n",
    "        'paths': [\n",
    "            path\n",
    "        ]\n",
    "    }\n",
    "\n",
    "    while k < max_loops:\n",
    "        # Generar una nueva ruta\n",
    "        new_path = generate_path(path)\n",
    "\n",
    "        # Calcular la diferencia de costos\n",
    "        cost_new_path = cost(new_path)\n",
    "        diff = cost_new_path - cost_path\n",
    "        \n",
    "        # Calcular el minimo costo que se ha tenido en todas las corridas y si es menor que el actual actualizar la información\n",
    "        if cost_new_path < super_min_cost:\n",
    "            super_min_cost = cost_new_path\n",
    "            information['paths'].append(new_path)\n",
    "\n",
    "        # Si la diferencia es menor que 0, entonces la nueva ruta es mejor, por lo que la actual se debe de actualizar\n",
    "        if diff < 0:\n",
    "            path = new_path\n",
    "            cost_path = cost_new_path\n",
    "\n",
    "        # Si la diferencia es mayor que 0, entonces la nueva ruta es peor, por lo que se debe de probar si debe de ser aceptada\n",
    "        elif np.random.rand() < np.exp(-diff / t):\n",
    "            path = new_path\n",
    "            cost_path = cost_new_path\n",
    "\n",
    "        # Escribir el costo dentro del array de resultados y T para graficar\n",
    "        results.append(cost_path)\n",
    "        t_values.append(t)\n",
    "\n",
    "        # Aumentar K y cada L pasos disminuir T\n",
    "        k += 1\n",
    "        if k % l == 0:\n",
    "            t *= t_update\n",
    "            \n",
    "            \n",
    "    # Guardar la información dentro de un archivo\n",
    "    if save_graph_values and super_min_cost < global_min:\n",
    "        with open(f'files/SA_t={first_t}_l={l}_tupdate={t_update}_seed={seed}_maxloops={max_loops}_result={results[-1]}_minimum={super_min_cost}.json', 'w') as file:\n",
    "            json.dump(information, file, indent=0, sort_keys=True,separators=(',', ':'), ensure_ascii=False, cls=NumpyEncoder)\n",
    "    \n",
    "    return results, t_values, super_min_cost\n",
    "    \n",
    "    "
   ]
  },
  {
   "cell_type": "markdown",
   "metadata": {},
   "source": [
    "**Ejecutar el programa**\n",
    "\n",
    "En la siguiente celda es donde vamos a ejecutar todo el programa. El programa se ejecutó durante toda una noche para poder encontrar la mejor solución posible. Para poder correr el programa se tiene que dejar la variable ```execute=True```.\n",
    "\n",
    "**NO CORRAS ESTA CELDA PARA VISUALIZAR EL CÓDIGO**\n",
    "- Es un loop infinito\n",
    "- Tarda aprox. 7min por iteración\n",
    "- Se puede visualizar el notebook sin correr la celda con los valores ya guardados\n",
    "\n",
    "**SOLO CORRELA SI LO QUE QUIERES ES HACER TU MISMO LA SIMULACIÓN**"
   ]
  },
  {
   "cell_type": "code",
   "execution_count": null,
   "metadata": {},
   "outputs": [],
   "source": [
    "execute = True\n",
    "save_graph = True\n",
    "graph_t = False\n",
    "global_min = cost(PATH)\n",
    "counter = 0\n",
    "\n",
    "\n",
    "if execute:\n",
    "    while True:\n",
    "        counter += 1\n",
    "        \n",
    "        t = np.random.normal(loc=2500.0, scale=500, size=1)[0]\n",
    "        l = np.random.normal(loc=100.0, scale=20,size=1)[0]\n",
    "        t_update = np.random.normal(loc=0.997, scale=0.001,size=1)[0]\n",
    "        max_loops = 200000\n",
    "        seed = np.random.randint(0, 1000000000)\n",
    "    \n",
    "        # run algorithm\n",
    "        results, t_values, min_cost = simulated_annealing(path=PATH, t=t, l=int(l), max_loops=max_loops, t_update=t_update, save_graph_values=True, global_min=global_min, seed=seed)\n",
    "    \n",
    "        # graph results\n",
    "        if save_graph and min_cost < global_min:\n",
    "            global_min = min_cost\n",
    "            \n",
    "            plt.figure(figsize=(8,6), facecolor='w')\n",
    "            plt.plot(range(len(results)), results)\n",
    "            plt.title(f'Cost of Simulated Annealing. min={min_cost}')\n",
    "            plt.xlabel('k iterations')\n",
    "            plt.ylabel('Cost')\n",
    "    \n",
    "            # save plot on disk\n",
    "            plt.savefig(f'./plots/SA_t={t}_l={l}_tupdate={t_update}_seed={seed}_maxloops={max_loops}_result={results[-1]}_minimum={min_cost}.png')\n",
    "            plt.clf()\n",
    "            \n",
    "            # print results on screen\n",
    "            print(f\"{counter}. cost: {min_cost}\")\n",
    "    \n",
    "            ########################\n",
    "            if graph_t:\n",
    "                # graph T values\n",
    "                plt.plot(range(len(t_values)), t_values)\n",
    "                plt.title(f'Value of T')\n",
    "                plt.xlabel('k iterations')\n",
    "                plt.ylabel('T')\n",
    "        \n",
    "                # save plot on disk\n",
    "                plt.savefig(f'./plots/T_t={t}_l={l}_tupdate={t_update}_seed={seed}_maxloops={max_loops}_result={results[-1]}_minimum={min_cost}.png')\n",
    "                plt.clf()\n",
    "        \n",
    "        print(f\"Finished with min_cost: {min_cost}\")"
   ]
  },
  {
   "cell_type": "markdown",
   "metadata": {},
   "source": [
    "Después de varias corridas, nos damos cuenta de que el mejor resultado es el siguiente: ```135,434``` km.\n",
    "\n",
    "Sin embargo, se logró cuando todavía no guardaba ni el *seed* ni la información de las corridas para poder efectuar la animación, es por eso que la animación se hará con otra corrida. Sin embargo, las variables fueron las siguientes en la mejor corrida: ```(T=3000, L=100, t_update=0.997)```, y en esa corrida si se guardó la gráfica que es la siguiente:\n",
    "\n",
    "<img src=\"plots/SA_t=3000_l=100_tupdate=0.997_d=135434.png\"/>\n",
    "\n",
    "La animación de la corrida se hará con los datos de una corrida con los mismos valores ```(T=3000, L=100, t_update=0.997, seed=698133137)``` pero que tuvo un costo de ```136,570``` km, solo ```1,136``` km más que la mejor (un incremento del 0.8% que puede despreciarse). La gráfica del costo de dicha corrida es la siguiente:\n",
    "\n",
    "<img src=\"plots/SA_t=3000_l=100_tupdate=0.997_s=698133137_d=136570_min=136570.png\"/>\n",
    "\n",
    "Además, podemos graficar cuál es el decremento de T conforme avanza el tiempo (conforme k va creciento). Lo podemos ver en la siguiente gráfica (valores ```T=2000, L=100, t_update=0.998, max_loops=100000```):\n",
    "\n",
    "<img src=\"plots/T_t=2000_l=100_tupdate=0.998_maxloops=100000.png\"/>\n",
    "\n",
    "\n"
   ]
  },
  {
   "cell_type": "markdown",
   "metadata": {},
   "source": [
    "## Animación"
   ]
  },
  {
   "cell_type": "markdown",
   "metadata": {},
   "source": [
    "**Primero vamos a graficar todas las coordenadas**"
   ]
  },
  {
   "cell_type": "code",
   "execution_count": null,
   "metadata": {},
   "outputs": [],
   "source": [
    "COORDS = np.empty((128, 2))\n",
    "\n",
    "with open('coordinates.txt', 'r') as f:\n",
    "    for index, line in enumerate(f.readlines()):\n",
    "        line = line.strip().split()\n",
    "        COORDS[index] = [float(line[0]), float(line[1])]"
   ]
  },
  {
   "cell_type": "code",
   "execution_count": null,
   "metadata": {},
   "outputs": [],
   "source": [
    "plt.figure(figsize=(8,6), facecolor='w')\n",
    "\n",
    "plt.plot(COORDS.T[0], COORDS.T[1], 'o', c='black')\n",
    "plt.xlabel(\"X\")\n",
    "plt.ylabel(\"Y\")\n",
    "plt.title(\"Cities\")\n",
    "\n",
    "plt.savefig(f'./map.png')\n",
    "plt.show()"
   ]
  },
  {
   "cell_type": "markdown",
   "metadata": {},
   "source": [
    "**Ahora vamos a crear todos los plots y guardarlos como imagenes para poderlas juntar después como una visualización de animación**"
   ]
  },
  {
   "cell_type": "markdown",
   "metadata": {},
   "source": [
    "```\n",
    "# Declarar la variable que va a guardar toda la información\n",
    "information = {}\n",
    "\n",
    "# Leer el archivo que resultó con toda la información de la corrida\n",
    "with open('./files/SA_t=3000_l=100_tupdate=0.997_d=39839_02.json', 'r') as file:\n",
    "    information = json.load(file)\n",
    "    \n",
    "paths = np.array(information['paths'])\n",
    "for i in range(len(paths)):\n",
    "    plt.figure(figsize=(8,6), facecolor='w')\n",
    "    plt.plot(paths[i, :, 1], paths[i, :, 2], '-o')\n",
    "    plt.title(f'step: {i}.  Cost: {cost(paths[i, :, :])}')\n",
    "    plt.xlabel('X')\n",
    "    plt.ylabel('Y')\n",
    "\n",
    "    # save plot on disk\n",
    "    # plt.savefig(f'./plots/animation/{i}.png')\n",
    "    # plt.show()\n",
    "    # plt.clf()"
   ]
  },
  {
   "cell_type": "code",
   "execution_count": null,
   "metadata": {},
   "outputs": [],
   "source": []
  },
  {
   "cell_type": "code",
   "execution_count": null,
   "metadata": {},
   "outputs": [],
   "source": []
  },
  {
   "cell_type": "code",
   "execution_count": null,
   "metadata": {},
   "outputs": [],
   "source": []
  }
 ],
 "metadata": {
  "interpreter": {
   "hash": "ff25bec44a39c7c25af9671c9881b29d4edb3c31c350ea6b1c47a73172de5bbc"
  },
  "kernelspec": {
   "display_name": "Python 3.8.5 64-bit ('venv': venv)",
   "language": "python",
   "name": "python3"
  },
  "language_info": {
   "codemirror_mode": {
    "name": "ipython",
    "version": 3
   },
   "file_extension": ".py",
   "mimetype": "text/x-python",
   "name": "python",
   "nbconvert_exporter": "python",
   "pygments_lexer": "ipython3",
   "version": "3.8.5"
  },
  "orig_nbformat": 4
 },
 "nbformat": 4,
 "nbformat_minor": 2
}
